{
 "cells": [
  {
   "cell_type": "code",
   "execution_count": 29,
   "id": "b30cca93",
   "metadata": {},
   "outputs": [],
   "source": [
    "import pandas as pd\n",
    "import re"
   ]
  },
  {
   "cell_type": "code",
   "execution_count": 4,
   "id": "28af62f7",
   "metadata": {},
   "outputs": [
    {
     "data": {
      "text/html": [
       "<div>\n",
       "<style scoped>\n",
       "    .dataframe tbody tr th:only-of-type {\n",
       "        vertical-align: middle;\n",
       "    }\n",
       "\n",
       "    .dataframe tbody tr th {\n",
       "        vertical-align: top;\n",
       "    }\n",
       "\n",
       "    .dataframe thead th {\n",
       "        text-align: right;\n",
       "    }\n",
       "</style>\n",
       "<table border=\"1\" class=\"dataframe\">\n",
       "  <thead>\n",
       "    <tr style=\"text-align: right;\">\n",
       "      <th></th>\n",
       "      <th>Filename</th>\n",
       "      <th>Formula</th>\n",
       "    </tr>\n",
       "  </thead>\n",
       "  <tbody>\n",
       "    <tr>\n",
       "      <th>0</th>\n",
       "      <td>.Wave_equation.html.swp</td>\n",
       "      <td>NaN</td>\n",
       "    </tr>\n",
       "    <tr>\n",
       "      <th>1</th>\n",
       "      <td>13_(number).html</td>\n",
       "      <td>13\\times x</td>\n",
       "    </tr>\n",
       "    <tr>\n",
       "      <th>2</th>\n",
       "      <td>13_(number).html</td>\n",
       "      <td>13^{x}\\,</td>\n",
       "    </tr>\n",
       "    <tr>\n",
       "      <th>3</th>\n",
       "      <td>13_(number).html</td>\n",
       "      <td>x^{13}\\,</td>\n",
       "    </tr>\n",
       "    <tr>\n",
       "      <th>4</th>\n",
       "      <td>1995.html</td>\n",
       "      <td>M_{\\mathrm{w}}            ...</td>\n",
       "    </tr>\n",
       "  </tbody>\n",
       "</table>\n",
       "</div>"
      ],
      "text/plain": [
       "                  Filename                                            Formula\n",
       "0  .Wave_equation.html.swp                                                NaN\n",
       "1         13_(number).html                       13\\times x                  \n",
       "2         13_(number).html                         13^{x}\\,                  \n",
       "3         13_(number).html                         x^{13}\\,                  \n",
       "4                1995.html                      M_{\\mathrm{w}}            ..."
      ]
     },
     "execution_count": 4,
     "metadata": {},
     "output_type": "execute_result"
    }
   ],
   "source": [
    "df = pd.read_csv(\"C:\\\\Users\\\\Dell\\\\Desktop\\\\Intern\\\\src\\\\Output\\\\CapitalFormula.csv\") # input file\n",
    "df.head()"
   ]
  },
  {
   "cell_type": "code",
   "execution_count": 19,
   "id": "abed8e2a",
   "metadata": {},
   "outputs": [
    {
     "name": "stdout",
     "output_type": "stream",
     "text": [
      "579270\n"
     ]
    }
   ],
   "source": [
    "N = df['Formula']\n",
    "print(len(N))"
   ]
  },
  {
   "cell_type": "code",
   "execution_count": 65,
   "id": "ed8e8c16",
   "metadata": {},
   "outputs": [
    {
     "name": "stdout",
     "output_type": "stream",
     "text": [
      "174508 120597 284165\n"
     ]
    }
   ],
   "source": [
    "regex1 = re.compile(r'[^\\\\][A-Z]+')\n",
    "regex2 = re.compile(r'[^A-Z^a-z^\\\\][a-z]')\n",
    "regex3 = re.compile(r'^[a-z]')\n",
    "\n",
    "countCapital = 0\n",
    "countSmall = 0\n",
    "countCapitalSmall = 0\n",
    "\n",
    "for sinput in df['Formula']:\n",
    "    temp1 = regex1.search(sinput)\n",
    "    temp2 = regex2.search(sinput)\n",
    "    if not temp2:\n",
    "        temp2 = regex3.search(sinput)\n",
    "    \n",
    "    if temp1 and temp2:\n",
    "        countCapitalSmall = countCapitalSmall + 1\n",
    "    elif temp1:\n",
    "        countCapital = countCapital + 1\n",
    "    else:\n",
    "        countSmall = countSmall + 1\n",
    "        \n",
    "print(countCapitalSmall , countCapital , countSmall)"
   ]
  },
  {
   "cell_type": "code",
   "execution_count": null,
   "id": "11c9b7ba",
   "metadata": {},
   "outputs": [],
   "source": []
  },
  {
   "cell_type": "code",
   "execution_count": null,
   "id": "d13eae25",
   "metadata": {},
   "outputs": [],
   "source": []
  },
  {
   "cell_type": "code",
   "execution_count": null,
   "id": "b8fcefe4",
   "metadata": {},
   "outputs": [],
   "source": []
  }
 ],
 "metadata": {
  "kernelspec": {
   "display_name": "Python 3",
   "language": "python",
   "name": "python3"
  },
  "language_info": {
   "codemirror_mode": {
    "name": "ipython",
    "version": 3
   },
   "file_extension": ".py",
   "mimetype": "text/x-python",
   "name": "python",
   "nbconvert_exporter": "python",
   "pygments_lexer": "ipython3",
   "version": "3.8.8"
  }
 },
 "nbformat": 4,
 "nbformat_minor": 5
}

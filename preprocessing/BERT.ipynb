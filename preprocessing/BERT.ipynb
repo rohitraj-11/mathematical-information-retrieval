{
 "cells": [
  {
   "cell_type": "code",
   "execution_count": 2,
   "id": "dense-eclipse",
   "metadata": {},
   "outputs": [
    {
     "name": "stderr",
     "output_type": "stream",
     "text": [
      "[nltk_data] Downloading package punkt to\n",
      "[nltk_data]     C:\\Users\\Dell\\AppData\\Roaming\\nltk_data...\n",
      "[nltk_data]   Package punkt is already up-to-date!\n"
     ]
    }
   ],
   "source": [
    "import nltk\n",
    "nltk.download('punkt')\n",
    "from nltk.tokenize import word_tokenize\n",
    "import numpy as np"
   ]
  },
  {
   "cell_type": "code",
   "execution_count": 3,
   "id": "dutch-karen",
   "metadata": {},
   "outputs": [
    {
     "name": "stdout",
     "output_type": "stream",
     "text": [
      "Requirement already satisfied: sentence-transformers in c:\\programdata\\anaconda3\\lib\\site-packages (2.0.0)\n",
      "Requirement already satisfied: torchvision in c:\\programdata\\anaconda3\\lib\\site-packages (from sentence-transformers) (0.10.0)\n",
      "Requirement already satisfied: scipy in c:\\programdata\\anaconda3\\lib\\site-packages (from sentence-transformers) (1.6.2)\n",
      "Requirement already satisfied: scikit-learn in c:\\programdata\\anaconda3\\lib\\site-packages (from sentence-transformers) (0.24.1)\n",
      "Requirement already satisfied: torch>=1.6.0 in c:\\programdata\\anaconda3\\lib\\site-packages (from sentence-transformers) (1.9.0)\n",
      "Requirement already satisfied: sentencepiece in c:\\programdata\\anaconda3\\lib\\site-packages (from sentence-transformers) (0.1.96)\n",
      "Requirement already satisfied: tqdm in c:\\programdata\\anaconda3\\lib\\site-packages (from sentence-transformers) (4.59.0)\n",
      "Requirement already satisfied: numpy in c:\\programdata\\anaconda3\\lib\\site-packages (from sentence-transformers) (1.20.1)\n",
      "Requirement already satisfied: huggingface-hub in c:\\programdata\\anaconda3\\lib\\site-packages (from sentence-transformers) (0.0.12)\n",
      "Requirement already satisfied: transformers<5.0.0,>=4.6.0 in c:\\programdata\\anaconda3\\lib\\site-packages (from sentence-transformers) (4.8.2)\n",
      "Requirement already satisfied: nltk in c:\\programdata\\anaconda3\\lib\\site-packages (from sentence-transformers) (3.6.1)\n",
      "Requirement already satisfied: typing-extensions in c:\\programdata\\anaconda3\\lib\\site-packages (from torch>=1.6.0->sentence-transformers) (3.7.4.3)\n",
      "Requirement already satisfied: packaging in c:\\programdata\\anaconda3\\lib\\site-packages (from transformers<5.0.0,>=4.6.0->sentence-transformers) (20.9)\n",
      "Requirement already satisfied: sacremoses in c:\\programdata\\anaconda3\\lib\\site-packages (from transformers<5.0.0,>=4.6.0->sentence-transformers) (0.0.45)\n",
      "Requirement already satisfied: filelock in c:\\programdata\\anaconda3\\lib\\site-packages (from transformers<5.0.0,>=4.6.0->sentence-transformers) (3.0.12)\n",
      "Requirement already satisfied: requests in c:\\programdata\\anaconda3\\lib\\site-packages (from transformers<5.0.0,>=4.6.0->sentence-transformers) (2.25.1)\n",
      "Requirement already satisfied: pyyaml in c:\\programdata\\anaconda3\\lib\\site-packages (from transformers<5.0.0,>=4.6.0->sentence-transformers) (5.4.1)\n",
      "Requirement already satisfied: regex!=2019.12.17 in c:\\programdata\\anaconda3\\lib\\site-packages (from transformers<5.0.0,>=4.6.0->sentence-transformers) (2021.4.4)\n",
      "Requirement already satisfied: tokenizers<0.11,>=0.10.1 in c:\\programdata\\anaconda3\\lib\\site-packages (from transformers<5.0.0,>=4.6.0->sentence-transformers) (0.10.3)\n",
      "Requirement already satisfied: pyparsing>=2.0.2 in c:\\programdata\\anaconda3\\lib\\site-packages (from packaging->transformers<5.0.0,>=4.6.0->sentence-transformers) (2.4.7)\n",
      "Requirement already satisfied: joblib in c:\\programdata\\anaconda3\\lib\\site-packages (from nltk->sentence-transformers) (1.0.1)\n",
      "Requirement already satisfied: click in c:\\programdata\\anaconda3\\lib\\site-packages (from nltk->sentence-transformers) (7.1.2)\n",
      "Requirement already satisfied: idna<3,>=2.5 in c:\\programdata\\anaconda3\\lib\\site-packages (from requests->transformers<5.0.0,>=4.6.0->sentence-transformers) (2.10)\n",
      "Requirement already satisfied: certifi>=2017.4.17 in c:\\programdata\\anaconda3\\lib\\site-packages (from requests->transformers<5.0.0,>=4.6.0->sentence-transformers) (2020.12.5)\n",
      "Requirement already satisfied: chardet<5,>=3.0.2 in c:\\programdata\\anaconda3\\lib\\site-packages (from requests->transformers<5.0.0,>=4.6.0->sentence-transformers) (4.0.0)\n",
      "Requirement already satisfied: urllib3<1.27,>=1.21.1 in c:\\programdata\\anaconda3\\lib\\site-packages (from requests->transformers<5.0.0,>=4.6.0->sentence-transformers) (1.26.4)\n",
      "Requirement already satisfied: six in c:\\programdata\\anaconda3\\lib\\site-packages (from sacremoses->transformers<5.0.0,>=4.6.0->sentence-transformers) (1.15.0)\n",
      "Requirement already satisfied: threadpoolctl>=2.0.0 in c:\\programdata\\anaconda3\\lib\\site-packages (from scikit-learn->sentence-transformers) (2.1.0)\n",
      "Requirement already satisfied: pillow>=5.3.0 in c:\\programdata\\anaconda3\\lib\\site-packages (from torchvision->sentence-transformers) (8.2.0)\n"
     ]
    }
   ],
   "source": [
    "import numpy as np\n",
    "import pandas as pd\n",
    "import matplotlib.pyplot as plt\n",
    "import seaborn as sns\n",
    "import re\n",
    "import sklearn\n",
    "import multiprocessing\n",
    "from sklearn.metrics.pairwise import cosine_similarity\n",
    "import collections\n",
    "from nltk import flatten\n",
    "from tqdm import tqdm\n",
    "!pip install sentence-transformers\n",
    "from sentence_transformers import SentenceTransformer\n",
    "sbert_model = SentenceTransformer('bert-base-nli-mean-tokens')"
   ]
  },
  {
   "cell_type": "code",
   "execution_count": 4,
   "id": "soviet-terrorist",
   "metadata": {},
   "outputs": [
    {
     "data": {
      "text/html": [
       "<div>\n",
       "<style scoped>\n",
       "    .dataframe tbody tr th:only-of-type {\n",
       "        vertical-align: middle;\n",
       "    }\n",
       "\n",
       "    .dataframe tbody tr th {\n",
       "        vertical-align: top;\n",
       "    }\n",
       "\n",
       "    .dataframe thead th {\n",
       "        text-align: right;\n",
       "    }\n",
       "</style>\n",
       "<table border=\"1\" class=\"dataframe\">\n",
       "  <thead>\n",
       "    <tr style=\"text-align: right;\">\n",
       "      <th></th>\n",
       "      <th>Filename</th>\n",
       "      <th>Formula</th>\n",
       "    </tr>\n",
       "  </thead>\n",
       "  <tbody>\n",
       "    <tr>\n",
       "      <th>0</th>\n",
       "      <td>.Wave_equation.html.swp</td>\n",
       "      <td>NaN</td>\n",
       "    </tr>\n",
       "    <tr>\n",
       "      <th>1</th>\n",
       "      <td>13_(number).html</td>\n",
       "      <td>13\\times x</td>\n",
       "    </tr>\n",
       "    <tr>\n",
       "      <th>2</th>\n",
       "      <td>13_(number).html</td>\n",
       "      <td>13^{x}\\,</td>\n",
       "    </tr>\n",
       "    <tr>\n",
       "      <th>3</th>\n",
       "      <td>13_(number).html</td>\n",
       "      <td>x^{13}\\,</td>\n",
       "    </tr>\n",
       "    <tr>\n",
       "      <th>4</th>\n",
       "      <td>1995.html</td>\n",
       "      <td>M_{\\mathrm{w}}            ...</td>\n",
       "    </tr>\n",
       "  </tbody>\n",
       "</table>\n",
       "</div>"
      ],
      "text/plain": [
       "                  Filename                                            Formula\n",
       "0  .Wave_equation.html.swp                                                NaN\n",
       "1         13_(number).html                       13\\times x                  \n",
       "2         13_(number).html                         13^{x}\\,                  \n",
       "3         13_(number).html                         x^{13}\\,                  \n",
       "4                1995.html                      M_{\\mathrm{w}}            ..."
      ]
     },
     "execution_count": 4,
     "metadata": {},
     "output_type": "execute_result"
    }
   ],
   "source": [
    "df=pd.read_csv(\"C:\\\\Users\\\\Dell\\\\Desktop\\\\Intern\\\\src\\\\Output\\\\Formula.csv\") # input file\n",
    "df.head()"
   ]
  },
  {
   "cell_type": "code",
   "execution_count": 5,
   "id": "emotional-injection",
   "metadata": {},
   "outputs": [
    {
     "name": "stdout",
     "output_type": "stream",
     "text": [
      "579270\n"
     ]
    }
   ],
   "source": [
    "reader1=df['Filename']\n",
    "reader2=df['Formula']\n",
    "print(len(reader2))"
   ]
  },
  {
   "cell_type": "code",
   "execution_count": 10,
   "id": "generous-marine",
   "metadata": {},
   "outputs": [],
   "source": [
    "def cosine(u, v):\n",
    "    return np.dot(u, v) / (np.linalg.norm(u) * np.linalg.norm(v))"
   ]
  },
  {
   "cell_type": "code",
   "execution_count": 6,
   "id": "least-saudi",
   "metadata": {},
   "outputs": [],
   "source": [
    "from sentence_transformers import SentenceTransformer\n",
    "sbert_model = SentenceTransformer('bert-base-nli-mean-tokens')"
   ]
  },
  {
   "cell_type": "code",
   "execution_count": 12,
   "id": "stuffed-driver",
   "metadata": {
    "collapsed": true
   },
   "outputs": [
    {
     "name": "stdout",
     "output_type": "stream",
     "text": [
      "Sample BERT embedding vector - length 768\n",
      "Sample BERT embedding vector - note includes negative values [ 4.25931692e-01  1.16766214e-01  1.40631366e+00  3.33675146e-01\n",
      "  6.37637734e-01 -5.73812187e-01 -2.55673379e-01  9.02869225e-01\n",
      " -3.37566525e-01 -3.59858423e-02  5.93291298e-02  5.37791103e-02\n",
      "  5.39815314e-02  3.62000883e-01 -7.24346116e-02  1.24585426e+00\n",
      " -7.49267161e-01 -4.97257233e-01  9.21216384e-02 -4.30042177e-01\n",
      "  1.33397833e-01  3.60433787e-01  1.02560067e+00  1.85313255e-01\n",
      "  4.14101750e-01  7.66591653e-02 -6.54447898e-02 -1.16296959e+00\n",
      " -4.64690387e-01  5.09957254e-01 -2.92314023e-01  3.36772829e-01\n",
      " -5.66968203e-01 -2.49840185e-01  3.40101808e-01  1.01196356e-01\n",
      " -3.71743202e-01  2.52421260e-01  2.32664704e-01 -8.23568404e-01\n",
      "  3.37798864e-01 -8.57977420e-02  1.89161912e-01  1.88596576e-01\n",
      " -9.89607573e-01  1.35740146e-01  5.67156672e-01  1.96995325e-02\n",
      "  2.07183838e-01 -4.78121370e-01 -4.03323948e-01  2.10904777e-01\n",
      "  8.07238579e-01 -2.46494457e-01 -6.90698743e-01 -2.58168370e-01\n",
      "  2.32671589e-01 -7.24149585e-01 -3.70000809e-01  4.87023562e-01\n",
      " -1.48426756e-01 -4.71753299e-01  1.95021316e-01  7.41653442e-01\n",
      " -8.24971497e-02 -5.46819150e-01  7.20798016e-01  1.52955964e-01\n",
      " -1.00634575e+00 -2.05394238e-01  2.19131425e-01 -5.17678976e-01\n",
      " -7.34207988e-01  1.87468022e-01 -8.02004784e-02 -6.20434880e-01\n",
      " -8.65267590e-02 -2.99719155e-01 -1.41482562e-01  8.86226356e-01\n",
      " -9.06419307e-02  1.17029637e-01  1.30458832e+00 -1.10796496e-01\n",
      "  3.98888409e-01 -5.28237335e-02 -4.06291246e-01 -7.51066744e-01\n",
      " -1.21132874e+00  1.06452549e+00  6.16138339e-01  6.48418725e-01\n",
      "  1.09216356e+00 -1.97070703e-01 -1.37558711e+00 -4.98948604e-01\n",
      " -1.58088639e-01 -1.42970467e+00 -1.08698905e-01 -2.01028928e-01\n",
      "  8.39490816e-03 -2.76632845e-01 -2.05824554e-01  8.33928525e-01\n",
      " -6.22567534e-01  5.43241620e-01 -4.40468878e-01  8.95234197e-03\n",
      "  2.01993302e-01  6.14079595e-01  6.14392519e-01  2.92119354e-01\n",
      " -3.65535617e-01 -2.16714472e-01  5.90061009e-01 -5.17812252e-01\n",
      " -9.81425822e-01  3.58712643e-01  9.18669999e-02  6.77234948e-01\n",
      "  2.60794282e-01  7.41767809e-02  3.80150229e-01 -8.74604285e-01\n",
      "  4.65645909e-01 -1.22264661e-01 -1.89613089e-01 -6.50418997e-01\n",
      " -7.01718032e-01 -3.08297038e-01 -3.50538731e-01  8.00144792e-01\n",
      " -3.24005559e-02 -5.21690369e-01 -3.57353359e-01 -7.95244426e-02\n",
      " -3.80761623e-01 -6.55381918e-01 -4.10780698e-01 -6.06581867e-01\n",
      "  1.07088864e-01 -9.98795927e-02 -3.60023856e-01 -2.36768812e-01\n",
      " -3.37368190e-01 -1.08446014e+00 -1.67996138e-01 -3.22144061e-01\n",
      "  2.35592276e-01  1.73288062e-02  7.55961761e-02  1.66267484e-01\n",
      " -6.58134639e-01 -2.61145979e-01 -1.24904239e+00 -5.74491978e-01\n",
      " -4.92975771e-01  6.49235010e-01  2.60303486e-02 -3.46098334e-01\n",
      " -1.24826111e-01  2.07819119e-01  5.53298593e-01  9.75194395e-01\n",
      " -9.90669802e-03 -4.43209857e-01 -3.45095769e-02  2.77941197e-01\n",
      "  3.91213119e-01  1.53548092e-01 -1.59302890e-01  1.57537580e-01\n",
      "  1.42261350e+00  4.65002924e-01  2.72189707e-01 -4.29585017e-02\n",
      " -2.40939111e-01  2.91533977e-01  1.89223394e-01 -5.27446508e-01\n",
      "  5.36798127e-02  5.04281402e-01 -6.26547217e-01  8.01607490e-01\n",
      " -3.26253146e-01 -1.81084141e-01  7.09477425e-01  1.42329901e-01\n",
      "  5.51053584e-01 -1.34055048e-01  1.82043746e-01 -4.80132937e-01\n",
      "  7.32611865e-04 -4.52636003e-01 -1.34413183e-01  2.20052868e-01\n",
      "  1.94777455e-02  5.63346565e-01  1.89860761e-01  1.33573905e-01\n",
      "  1.37262449e-01  6.06565893e-01  2.03257710e-01 -7.18766928e-01\n",
      "  3.32230449e-01  6.48032486e-01 -1.48557797e-01  5.51089406e-01\n",
      " -5.42466879e-01 -5.57782650e-02 -1.35337532e-01 -2.87402980e-02\n",
      "  9.43405986e-01  7.51833245e-02  5.65834880e-01  2.31343478e-01\n",
      "  6.64013028e-02 -4.36230898e-01 -8.21667314e-01  2.49196574e-01\n",
      "  6.48197055e-01  4.94056612e-01 -6.82323515e-01  1.44028401e+00\n",
      "  3.87404025e-01  9.74158347e-01  4.13922109e-02 -8.79116833e-01\n",
      " -3.61621119e-02 -5.67521691e-01  6.00732863e-01 -7.22515702e-01\n",
      " -5.66581607e-01  6.50437117e-01  9.32631373e-01 -8.01215973e-03\n",
      " -1.65661645e+00 -3.85871977e-01  5.57133019e-01 -4.13100302e-01\n",
      "  6.75350189e-01  6.33268595e-01  9.37251806e-01  6.63265526e-01\n",
      " -1.03374362e+00  8.68857652e-02  8.21480811e-01 -2.10502476e-01\n",
      " -5.74381828e-01  4.82244760e-01  8.03937092e-02 -7.71538198e-01\n",
      "  1.60491139e-01 -3.78627419e-01 -3.49352658e-01 -1.38358921e-01\n",
      "  6.76096559e-01  1.98975548e-01 -2.60725051e-01  3.59364450e-01\n",
      " -2.12026119e-01 -9.31042969e-01 -3.24236363e-01  5.37355185e-01\n",
      "  2.13981837e-01 -4.39933419e-01 -6.67386651e-01  1.58698618e-01\n",
      " -6.97463095e-01  9.64033008e-01  1.75403282e-01 -5.16520619e-01\n",
      " -5.78480005e-01  2.39732087e-01 -2.02990994e-01 -1.22066963e+00\n",
      " -2.02539265e-01  7.33330175e-02  4.10078019e-02  9.08434749e-01\n",
      " -2.74599314e-01 -5.26214465e-02 -7.98473835e-01 -1.64565206e-01\n",
      " -4.68859702e-01  1.42165557e-01  4.79870886e-01 -1.29199490e-01\n",
      " -8.95698667e-01 -4.11527425e-01  8.29792023e-01  3.06995600e-01\n",
      "  5.92398047e-01 -1.30910826e+00 -9.22562063e-01 -1.03416991e+00\n",
      "  7.45190620e-01 -8.26738030e-02  2.52750725e-01 -3.24771628e-02\n",
      "  3.23458761e-01  1.69906110e-01 -3.82766902e-01  1.93427831e-01\n",
      "  3.43041241e-01 -5.77652693e-01 -3.38018417e-01  2.00124860e-01\n",
      " -2.11032128e+00 -6.02137744e-01 -1.17255294e+00 -3.03897768e-01\n",
      "  5.07460356e-01  7.89584279e-01  9.99241471e-02  8.52961421e-01\n",
      " -3.82758677e-01 -3.15851271e-01 -4.28375095e-01 -1.36009240e+00\n",
      " -1.60848230e-01 -3.80621135e-01 -2.43938595e-01  5.45526147e-01\n",
      " -1.89936221e-01 -3.13985735e-01  4.86025035e-01  1.03359044e+00\n",
      " -7.65175998e-01 -4.00304258e-01  1.48701119e+00 -2.88151145e-01\n",
      "  3.60955566e-01  1.02691805e+00 -2.09462807e-01  2.25034624e-01\n",
      "  1.28846616e-03  2.19442442e-01 -4.44889247e-01  1.12950772e-01\n",
      "  8.79375935e-01 -4.50224191e-01  1.11913577e-01 -2.18644619e-01\n",
      "  7.44960010e-02 -9.30700541e-01 -5.22474051e-01 -8.49215269e-01\n",
      " -4.79786187e-01 -5.32021761e-01 -1.30126476e-01 -2.82956064e-01\n",
      "  1.21449077e+00 -2.48779684e-01 -4.73353922e-01  1.42554447e-01\n",
      " -5.82740128e-01  2.16082066e-01 -4.18936849e-01  1.77410915e-01\n",
      " -2.11605579e-01  2.12350115e-01 -3.88895959e-01  3.00356373e-02\n",
      " -9.51735526e-02  3.18095714e-01  1.99989766e-01 -2.46197030e-01\n",
      "  4.38316107e-01  2.22010035e-02  4.33419824e-01  7.81885624e-01\n",
      " -6.72271609e-01  3.68269384e-02  1.06848717e-01 -8.75148535e-01\n",
      "  3.38375151e-01 -5.03242850e-01  2.36624956e-01  3.82670671e-01\n",
      "  4.10430580e-01 -5.36428511e-01  7.16781244e-02 -1.01818633e+00\n",
      "  2.07213938e-01  6.66397035e-01  2.27476388e-01  3.35304558e-01\n",
      " -6.60687387e-01 -4.04530942e-01  1.24114148e-01  9.40698445e-01\n",
      "  1.31164551e-01 -5.10148406e-01 -8.00122172e-02 -7.44602323e-01\n",
      " -8.00302923e-02 -9.96558368e-03  5.41903853e-01  6.07128561e-01\n",
      " -7.32015818e-02  1.77278087e-01  6.73654735e-01 -8.88447583e-01\n",
      "  3.17238688e-01 -1.01683736e-01  6.90661967e-01 -6.51075006e-01\n",
      "  5.32881692e-02  4.22319293e-01 -4.08912718e-01 -8.31067204e-01\n",
      "  5.29963732e-01  1.05451085e-01 -3.79594058e-01  5.90885282e-01\n",
      " -3.67538601e-01 -5.13877630e-01 -2.80810267e-01  6.74179852e-01\n",
      " -2.89791077e-01 -1.27861810e+00  1.55498981e-01 -6.78161860e-01\n",
      "  6.49145603e-01  5.15690506e-01  4.15787816e-01 -1.76704273e-01\n",
      " -8.53616118e-01 -4.74124819e-01 -4.38238800e-01  4.94355351e-01\n",
      " -4.31637526e-01  2.24759340e-01  3.72185916e-01 -1.05749416e+00\n",
      "  7.10072100e-01  1.85445398e-01 -2.46543035e-01 -5.67743778e-01\n",
      " -2.27645352e-01 -5.44112325e-01  1.56405166e-01  7.91928649e-01\n",
      " -3.17976952e-01  1.98989064e-01 -4.53012794e-01  1.18186951e+00\n",
      "  2.79173285e-01  4.23408210e-01  3.85628402e-01 -2.34311104e-01\n",
      "  4.11882192e-01  8.85028839e-02  5.87013900e-01  2.37469897e-02\n",
      " -7.82614172e-01 -1.17041674e-02 -2.90753603e-01  2.91586399e-01\n",
      " -3.25365663e-01 -2.82906979e-01 -6.57577515e-01  4.25345391e-01\n",
      "  6.11947298e-01  4.11826730e-01 -5.03396451e-01 -3.36422324e-01\n",
      "  3.43664736e-01 -3.17597002e-01  1.01827301e-01 -1.01020718e+00\n",
      "  5.19066691e-01  5.89634418e-01 -1.45569257e-02 -1.20112725e-01\n",
      " -3.09834868e-01  6.33375168e-01 -1.12229192e+00  6.83409989e-01\n",
      "  1.58031315e-01  5.16834199e-01 -3.37478817e-01  1.01905870e+00\n",
      " -6.53072655e-01  8.98932815e-02  4.51191097e-01  7.17895389e-01\n",
      "  7.29058683e-01 -1.83217525e-01 -3.08254380e-02  3.77862126e-01\n",
      " -6.73648179e-01 -6.33665204e-01  3.05369198e-01  5.52573502e-01\n",
      " -2.14277610e-01  2.96436667e-01  9.76611614e-01 -2.58510739e-01\n",
      "  3.14802587e-01  4.21935707e-01 -1.24285772e-01 -9.40073729e-01\n",
      "  7.02442408e-01  6.16855800e-01  8.03118229e-01 -2.90476471e-01\n",
      "  3.72657120e-01  3.92687500e-01 -4.60821360e-01  6.44772112e-01\n",
      " -7.45481372e-01 -3.78705263e-02 -2.58538753e-01  2.99971521e-01\n",
      "  6.94411755e-01 -2.53217161e-01 -7.62003958e-02 -3.15495968e-01\n",
      "  1.01052070e+00 -3.15875232e-01  5.38616896e-01 -1.02918887e+00\n",
      " -2.35345557e-01 -6.27180338e-01  3.73251647e-01 -1.48737151e-03\n",
      "  1.86134174e-01  1.06940448e-01  6.37090385e-01  2.38052800e-01\n",
      "  4.11318213e-01  3.08739603e-01  4.90695655e-01  2.69293129e-01\n",
      " -9.35712695e-01 -3.54027092e-01  4.43613708e-01  1.62049860e-01\n",
      "  3.85529459e-01 -1.76386952e-01 -6.83082342e-01 -8.41198742e-01\n",
      " -1.05547428e+00 -9.11681876e-02  1.61214650e-01 -8.95143226e-02\n",
      " -7.73036063e-01 -1.22987127e+00 -5.07390857e-01  9.48263556e-02\n",
      "  7.00879872e-01  7.94715166e-01  2.70876467e-01  1.92930624e-01\n",
      " -8.79568100e-01  9.08854842e-01  3.26207399e-01  7.48029947e-01\n",
      "  7.34743923e-02 -1.27248287e-01 -7.57255852e-01 -3.03860456e-01\n",
      "  2.90253699e-01  9.32047665e-01 -3.34636904e-02 -8.45703125e-01\n",
      " -1.12787533e+00  7.40730047e-01  3.38097662e-01 -5.52308798e-01\n",
      "  5.35391390e-01  8.12088847e-01 -1.15880585e+00 -5.15062213e-01\n",
      "  6.59487844e-01  1.18142068e-01 -2.15547457e-01 -3.80886942e-01\n",
      " -1.58936501e-01  3.69197816e-01  3.60412538e-01 -3.15308839e-01\n",
      " -1.34737444e+00 -1.21045910e-01  2.01442525e-01  2.13402793e-01\n",
      "  2.74631847e-02  8.00369442e-01 -3.99665564e-01  2.03941315e-02\n",
      " -2.74334043e-01 -3.10708523e-01  3.25143427e-01  2.55787492e-01\n",
      " -4.56290454e-01  6.26035571e-01  5.56004345e-01  2.85217524e-01\n",
      "  9.81371701e-02 -8.27426732e-01 -1.37032461e+00  1.61800236e-01\n",
      "  7.81494141e-01  1.06209826e+00 -2.81288713e-01  4.67774600e-01\n",
      " -4.60550129e-01  3.59880984e-01  5.92551231e-01 -7.98524991e-02\n",
      " -4.78129715e-01 -4.61859584e-01 -1.46048935e-03 -1.20161164e+00\n",
      "  5.54159701e-01 -4.41286117e-02  5.75674176e-01  1.71853438e-01\n",
      "  2.97262698e-01  2.60231286e-01 -2.27776188e-02 -4.08553600e-01\n",
      "  4.57225531e-01 -4.67388213e-01 -1.03428312e-01 -3.32016259e-01\n",
      " -3.23575079e-01  1.30970955e-01  8.30007911e-01  2.57645309e-01\n",
      " -6.92358017e-02  4.43550497e-02  1.66703388e-02  4.27803755e-01\n",
      " -1.21368217e+00  3.93572360e-01  1.44944683e-01  8.74260485e-01\n",
      " -1.29514039e+00  6.56842887e-01  1.22781321e-01 -1.10260522e+00\n",
      "  7.43116856e-01  1.60597518e-01  5.42854846e-01  3.06706280e-01\n",
      "  5.06135106e-01  1.36294901e+00  3.79624873e-01  3.13681543e-01\n",
      "  4.35953848e-02  1.08286604e-01  7.52835751e-01  2.25390106e-01\n",
      "  1.58846647e-01  4.22347784e-01  8.19465593e-02 -2.05769256e-01\n",
      "  4.07270700e-01 -5.13933003e-02  6.16390347e-01  5.38970768e-01\n",
      "  7.98898101e-01  5.46266437e-01  4.29852575e-01  7.36664057e-01\n",
      " -7.97337890e-01 -2.76288157e-03  8.81029442e-02 -4.89162683e-01\n",
      "  6.05645359e-01 -2.97521621e-01  9.91125166e-01  1.27557129e-01\n",
      "  2.44289964e-01 -4.58748490e-01  6.49738550e-01 -1.96548510e+00\n",
      " -1.19451523e-01 -9.78782594e-01 -1.44104928e-01 -1.02423322e+00\n",
      "  1.17245503e-01 -3.50590795e-01 -4.06472623e-01  4.62515116e-01\n",
      " -2.02179745e-01 -2.00533018e-01  5.71624875e-01 -8.49734902e-01\n",
      "  1.43513799e-01 -1.00041020e+00 -5.16285181e-01  2.65205622e-01\n",
      " -2.31201053e-01  5.83886862e-01 -2.44629662e-02 -7.11661160e-01\n",
      " -1.35382652e+00  8.00235391e-01 -8.14637959e-01 -4.51365620e-01\n",
      " -2.69166976e-01 -1.49859294e-01 -2.95969665e-01  5.43238744e-02\n",
      " -1.67575479e-01 -3.45786303e-01 -5.97441077e-01 -2.87145317e-01\n",
      "  2.55904853e-01  3.14026237e-01 -3.65841985e-01  1.30752695e+00\n",
      " -1.44856751e-01  8.51084530e-01 -3.46019834e-01  3.35266888e-01\n",
      " -1.23874798e-01  5.11572480e-01 -9.70138133e-01 -1.34362862e-01\n",
      " -8.90338898e-01 -7.77961314e-01 -2.55141854e-01  3.11801016e-01\n",
      " -2.20165268e-01 -5.01015067e-01 -1.74971595e-01 -3.72329891e-01\n",
      " -1.99361518e-01  2.43103772e-01  7.91611195e-01  4.24457699e-01\n",
      "  2.69266009e-01 -5.73764741e-01 -4.22167927e-01 -8.02994609e-01\n",
      "  2.26221964e-01 -8.88579726e-01 -1.03691673e+00  1.94741279e-01\n",
      "  1.51870742e-01 -2.37418920e-01 -1.87219650e-01  7.40166783e-01\n",
      "  4.84446883e-01  3.95133495e-01 -3.22468847e-01 -1.04610920e+00\n",
      "  6.28138065e-01  7.90839911e-01 -9.51859474e-01  7.56286263e-01\n",
      " -1.34591907e-01 -2.81477511e-01 -8.55454504e-02 -8.75819683e-01\n",
      " -3.52937222e-01  2.82913446e-01  3.14262539e-01 -1.16375995e+00\n",
      " -1.99272290e-01  3.47217023e-01  7.33407974e-01 -1.99172050e-01]\n"
     ]
    }
   ],
   "source": [
    "sentence_embeddings = sbert_model.encode(reader2)\n",
    "\n",
    "print('Sample BERT embedding vector - length', len(sentence_embeddings[0]))\n",
    "print('Sample BERT embedding vector - note includes negative values', sentence_embeddings[0])\n",
    "\n",
    "sentence_embeddings = np.array(sentence_embeddings)\n",
    "np.save('embeddings1.npy', sentence_embeddings)"
   ]
  },
  {
   "cell_type": "code",
   "execution_count": 7,
   "id": "above-taxation",
   "metadata": {},
   "outputs": [],
   "source": [
    "sentence_embeddings = np.load('formula_embeddings.npy')"
   ]
  },
  {
   "cell_type": "code",
   "execution_count": 8,
   "id": "impressive-shark",
   "metadata": {
    "scrolled": true
   },
   "outputs": [],
   "source": [
    "\n",
    "query = r\"https://meet.google.com/jer-coar-mkd\"\n",
    "\n",
    "query_vec = sbert_model.encode([query])[0]\n",
    "\n",
    "fno = \"0\"\n",
    "\n",
    "# queries = [r\"-0.026838601\\ldots\",r\"\\mathfrak{p}\",r\"n=\\left\\lfloor 0.5-\\log_{2}\\left(\\frac{\\text{frequency of this item}}{\\text{frequency of most common item}}\\right)\\right\\rfloor\",r\"\\mathbf{\\nabla}\\times\\mathbf{b}=\\mu_{0}\\mathbf{j}+\\underbrace{\\mu_{0}\\epsilon_%{0}\\frac{\\partial}{\\partial t}\\mathbf{e}}_{\\mathrm{maxwell^{\\prime}s\\ term}}\",r\"1+\\cfrac{1}{2+\\cfrac{1}{5+\\cfrac{1}{5+\\cfrac{1}{4+\\ddots}}}}\",r\"\\,{}^{238}_{92}\\mathrm{u}+\\,^{64}_{28}\\mathrm{ni}\\to\\,^{302}_{120}\\mathrm{ubn}%^{*}\\to\\ \\mathit{fission\\ only}\",r\"0\\to g^{\\wedge}\\stackrel{\\pi^{\\wedge}}{\\to}x^{\\wedge}\\stackrel{\\imath^{\\wedge}%}{\\to}h^{\\wedge}\\to 0\",r\"w=\\begin{cases}w^{*}&amp;\\mbox{if }w^{*}&gt;\\frac{1}{2},\\\\\\frac{1}{2}&amp;\\mbox{if }w^{*}\\leq\\frac{1}{2}.\\\\\\end{cases}\",r\"\\begin{bmatrix}v_{1}\\\\i_{2}\\end{bmatrix}=\\begin{bmatrix}h_{11}&amp;h_{12}\\\\h_{21}&amp;h_{22}\\end{bmatrix}\\begin{bmatrix}i_{1}\\\\v_{2}\\end{bmatrix}\",r\"l(\\lambda,\\alpha,s)=\\sum_{n=0}^{\\infty}\\frac{\\exp(2\\pi i\\lambda n)}{(n+\\alpha)%^{s}}.\",r\"\\ ax^{2}+bx+c=0\",r\"o(mn\\log m)\",r\"a\\oplus b=(a^{c}\\ominus b^{s})^{c}\",r\"\\cos\\alpha=-\\cos\\beta\\cos\\gamma+\\sin\\beta\\sin\\gamma\\cosh\\frac{a}{k},\\,\",r\"\\forall x,y\\in a\\;[x\\neq y\\rightarrow\\neg\\exists z\\in x\\;[z\\leq x\\land z\\leq y%]].\",r\"\\tau_{\\text{rms}}=\\sqrt{\\frac{\\int_{0}^{\\infty}(\\tau-\\overline{\\tau})^{2}a_{c}%(\\tau)d\\tau}{\\int_{0}^{\\infty}a_{c}(\\tau)d\\tau}}\",r\"x-1-\\frac{1}{2}-\\frac{1}{4}-\\frac{1}{5}-\\frac{1}{6}-\\frac{1}{9}-\\cdots=1\",r\"p_{i}^{x}=\\frac{n!}{n_{x}!(n-n_{x})!}p_{x}^{n_{x}}(1-p_{x})^{n-n_{x}}\",r\"h_{ij}=\\begin{bmatrix}{\\partial^{2}v_{ij}\\over\\partial x_{i}\\partial x_{j}}&amp;{%\\partial^{2}v_{ij}\\over\\partial x_{i}\\partial y_{j}}&amp;{\\partial^{2}v_{ij}\\over%\\partial x_{i}\\partial z_{j}}\\\\{\\partial^{2}v_{ij}\\over\\partial y_{i}\\partial x_{j}}&amp;{\\partial^{2}v_{ij}\\over%\\partial y_{i}\\partial y_{j}}&amp;{\\partial^{2}v_{ij}\\over\\partial y_{i}\\partial z%_{j}}\\\\{\\partial^{2}v_{ij}\\over\\partial z_{i}\\partial x_{j}}&amp;{\\partial^{2}v_{ij}\\over%\\partial z_{i}\\partial y_{j}}&amp;{\\partial^{2}v_{ij}\\over\\partial z_{i}\\partial z%_{j}}\\end{bmatrix}\",r\"r_{xy}=\\frac{\\sum\\limits_{i=1}^{n}(x_{i}-\\bar{x})(y_{i}-\\bar{y})}{(n-1)s_{x}s_%{y}}=\\frac{\\sum\\limits_{i=1}^{n}(x_{i}-\\bar{x})(y_{i}-\\bar{y})}{\\sqrt{\\sum%\\limits_{i=1}^{n}(x_{i}-\\bar{x})^{2}\\sum\\limits_{i=1}^{n}(y_{i}-\\bar{y})^{2}}},\",r\"-0.\\qvar{*1*}\\ldots\",r\"\\mathfrak{p}^{\\qvar{*1*}}\",r\"\\qvar{*1*}\\left(\\frac{\\text{frequency \\qvar{*2*}}}{\\text{frequency \\qvar{*3*}}%}\\right)\",r\"\\underbrace{\\qvar{*1*}}_{\\qvar{*2*}}\",r\"1+\\cfrac{1}{\\qvar{*1*}+\\cfrac{1}{\\qvar{*2*}}}\",r\"\\,{}^{238}_{92}\\mathrm{u}+\\qvar{*1*}\\to\\qvar{*2*}\",r\"\\qvar{*1*}^{\\wedge}\\stackrel{\\qvar{*2*}^{\\wedge}}{\\to}\\qvar{*3*}^{\\wedge}\",r\"\\qvar{*1*}=\\{\\begin{array}[]{ll}\\qvar{*2*}&amp;\\mbox{if }\\qvar{*3*}&gt;\\frac{1}{2}\\\\\\qvar{*4*}&amp;\\mbox{if }\\qvar{*3*}\\leq\\frac{1}{2}\\\\\\end{array}\",r\"\\qvar{*1*}=\\begin{bmatrix}\\qvar{*2*}&amp;\\qvar{*3*}\\\\\\qvar{*4*}&amp;\\qvar{*5*}\\end{bmatrix}\\begin{bmatrix}\\qvar{*6*}\\\\\\qvar{*7*}\\end{bmatrix}\",r\"l(\\qvar{*1*},\\qvar{*2*},\\qvar{*3*})=\\sum_{\\qvar{*4*}=0}^{\\infty}\\frac{\\exp(2%\\pi i\\qvar{*1*}\\qvar{*4*})}{(\\qvar{*4*}+\\qvar{*2*})^{\\qvar{*3*}}}\",r\"\\qvar{*1*}x^{2}+\\qvar{*2*}x+\\qvar{*3*}=0\",r\"o(\\qvar{*1*}\\log\\qvar{*2*})\",r\"a~{}\\qvar{*1*}~{}b=(\\qvar{*2*})^{\\qvar{*3*}}\",r\"\\qvar{*1*}\\alpha=-\\qvar{*1*}\\beta\\qvar{*1*}\\gamma+\\qvar{*2*}\\beta\\qvar{*2*}%\\gamma\\qvar{*3*}\",r\"\\forall x,y\\in\\qvar{*1*}\\;[x\\neq y\\rightarrow\\qvar{*2*}]\",r\"\\qvar{*1*}=\\sqrt{\\frac{\\int_{0}^{\\infty}\\qvar{*2*}^{2}\\qvar{*3*}~{}d\\qvar{*1*}%}{\\int_{0}^{\\infty}\\qvar{*3*}~{}d\\qvar{*1*}}}\",r\"\\frac{1}{\\qvar{*1*}}-\\frac{1}{\\qvar{*2*}}-\\frac{1}{\\qvar{*3*}}-\\frac{1}{\\qvar{%*4*}}-\\frac{1}{\\qvar{*5*}}\",r\"\\frac{n!}{\\qvar{*1*}!(n-\\qvar{*1*})!}p^{\\qvar{*1*}}(1-p)^{n-\\qvar{*1*}}\",r\"h_{\\qvar{*1*}}=\\begin{bmatrix}{\\partial^{2}\\qvar{*2*}\\over\\qvar{*3*}}\\end{bmatrix}\",r\"\\frac{\\sum\\limits_{i=1}^{n}(\\qvar{*1*}_{i}-\\bar{\\qvar{*1*}})(\\qvar{*2*}_{i}-%\\bar{\\qvar{*2*}})}{\\sqrt{\\sum\\limits_{i=1}^{n}(\\qvar{*1*}_{i}-\\bar{\\qvar{*1*}}%)^{2}\\sum\\limits_{i=1}^{n}(\\qvar{*2*}_{i}-\\bar{\\qvar{*2*}})^{2}}}\"]  \n",
    "# temp = 0\n",
    "# for query in queries:\n",
    "#     query_vec = sbert_model.encode([query])[0]\n",
    "#     sim_score=[]\n",
    "#     for sent in sentence_embeddings:\n",
    "#       sim = cosine(query_vec, sent)\n",
    "#       sim_score.append(sim)\n",
    "#     fno = str(temp)\n",
    "#     rows=zip(reader1,sim_score)\n",
    "#     df=pd.DataFrame(rows,columns=['DOCNO','Similarity'])\n",
    "#     df.to_csv(\"C:\\\\Users\\\\Dell\\\\Desktop\\\\Intern\\\\src\\\\Output\\\\queryResults\\\\result\" + fno + \".csv\",index=True) #output file\n",
    "#     df = pd.read_csv(\"C:\\\\Users\\\\Dell\\\\Desktop\\\\Intern\\\\src\\\\Output\\\\queryResults\\\\result\" + fno + \".csv\")\n",
    "#     sorted_df = df.sort_values(by=[\"Similarity\"], ascending=False)\n",
    "#     sorted_df.drop_duplicates(subset='DOCNO',keep='first', inplace = True)\n",
    "#     df1=sorted_df.head(20)\n",
    "#     df1.to_csv(\"C:\\\\Users\\\\Dell\\\\Desktop\\\\Intern\\\\src\\\\Output\\\\queryResults\\\\result\" + fno + \"sorted.csv\", index=False)\n",
    "#     temp = temp + 1"
   ]
  },
  {
   "cell_type": "code",
   "execution_count": 9,
   "id": "brilliant-linux",
   "metadata": {
    "scrolled": true
   },
   "outputs": [
    {
     "ename": "NameError",
     "evalue": "name 'cosine' is not defined",
     "output_type": "error",
     "traceback": [
      "\u001b[1;31m---------------------------------------------------------------------------\u001b[0m",
      "\u001b[1;31mNameError\u001b[0m                                 Traceback (most recent call last)",
      "\u001b[1;32m<ipython-input-9-4f41a69f5c13>\u001b[0m in \u001b[0;36m<module>\u001b[1;34m\u001b[0m\n\u001b[0;32m      1\u001b[0m \u001b[0msim_score\u001b[0m\u001b[1;33m=\u001b[0m\u001b[1;33m[\u001b[0m\u001b[1;33m]\u001b[0m\u001b[1;33m\u001b[0m\u001b[1;33m\u001b[0m\u001b[0m\n\u001b[0;32m      2\u001b[0m \u001b[1;32mfor\u001b[0m \u001b[0msent\u001b[0m \u001b[1;32min\u001b[0m \u001b[0msentence_embeddings\u001b[0m\u001b[1;33m:\u001b[0m\u001b[1;33m\u001b[0m\u001b[1;33m\u001b[0m\u001b[0m\n\u001b[1;32m----> 3\u001b[1;33m   \u001b[0msim\u001b[0m \u001b[1;33m=\u001b[0m \u001b[0mcosine\u001b[0m\u001b[1;33m(\u001b[0m\u001b[0mquery_vec\u001b[0m\u001b[1;33m,\u001b[0m \u001b[0msent\u001b[0m\u001b[1;33m)\u001b[0m\u001b[1;33m\u001b[0m\u001b[1;33m\u001b[0m\u001b[0m\n\u001b[0m\u001b[0;32m      4\u001b[0m   \u001b[0msim_score\u001b[0m\u001b[1;33m.\u001b[0m\u001b[0mappend\u001b[0m\u001b[1;33m(\u001b[0m\u001b[0msim\u001b[0m\u001b[1;33m)\u001b[0m\u001b[1;33m\u001b[0m\u001b[1;33m\u001b[0m\u001b[0m\n\u001b[0;32m      5\u001b[0m \u001b[1;33m\u001b[0m\u001b[0m\n",
      "\u001b[1;31mNameError\u001b[0m: name 'cosine' is not defined"
     ]
    }
   ],
   "source": [
    "sim_score=[]\n",
    "for sent in sentence_embeddings:\n",
    "  sim = cosine(query_vec, sent)\n",
    "  sim_score.append(sim)\n",
    "\n",
    "rows=zip(reader1,sim_score)\n",
    "df=pd.DataFrame(rows,columns=['DOCNO','Similarity'])\n",
    "df.to_csv(\"C:\\\\Users\\\\Dell\\\\Desktop\\\\Intern\\\\src\\\\Output\\\\queryResults\\\\result\" + fno + \".csv\",index=True) #output file\n"
   ]
  },
  {
   "cell_type": "code",
   "execution_count": null,
   "id": "million-museum",
   "metadata": {},
   "outputs": [],
   "source": [
    "df = pd.read_csv(\"C:\\\\Users\\\\Dell\\\\Desktop\\\\Intern\\\\src\\\\Output\\\\queryResults\\\\result\" + fno + \".csv\")\n",
    "sorted_df = df.sort_values(by=[\"Similarity\"], ascending=False)\n",
    "sorted_df.drop_duplicates(subset='DOCNO',keep='first', inplace = True)\n",
    "df1=sorted_df.head(20)\n",
    "df1.to_csv(\"C:\\\\Users\\\\Dell\\\\Desktop\\\\Intern\\\\src\\\\Output\\\\queryResults\\\\result\" + fno + \"sorted.csv\", index=False)"
   ]
  },
  {
   "cell_type": "code",
   "execution_count": null,
   "id": "thrown-casino",
   "metadata": {},
   "outputs": [],
   "source": []
  },
  {
   "cell_type": "code",
   "execution_count": null,
   "id": "gentle-prediction",
   "metadata": {},
   "outputs": [],
   "source": []
  },
  {
   "cell_type": "code",
   "execution_count": null,
   "id": "informed-anderson",
   "metadata": {},
   "outputs": [],
   "source": [
    "\n"
   ]
  },
  {
   "cell_type": "code",
   "execution_count": null,
   "id": "veterinary-ambassador",
   "metadata": {},
   "outputs": [],
   "source": []
  },
  {
   "cell_type": "code",
   "execution_count": null,
   "id": "registered-celebration",
   "metadata": {},
   "outputs": [],
   "source": []
  },
  {
   "cell_type": "code",
   "execution_count": null,
   "id": "stretch-durham",
   "metadata": {},
   "outputs": [],
   "source": []
  },
  {
   "cell_type": "code",
   "execution_count": null,
   "id": "verified-grant",
   "metadata": {},
   "outputs": [],
   "source": []
  },
  {
   "cell_type": "code",
   "execution_count": null,
   "id": "featured-audience",
   "metadata": {},
   "outputs": [],
   "source": []
  },
  {
   "cell_type": "code",
   "execution_count": null,
   "id": "related-dairy",
   "metadata": {},
   "outputs": [],
   "source": []
  },
  {
   "cell_type": "code",
   "execution_count": null,
   "id": "present-matthew",
   "metadata": {},
   "outputs": [],
   "source": []
  },
  {
   "cell_type": "code",
   "execution_count": null,
   "id": "destroyed-ivory",
   "metadata": {},
   "outputs": [],
   "source": []
  },
  {
   "cell_type": "code",
   "execution_count": null,
   "id": "warming-preservation",
   "metadata": {},
   "outputs": [],
   "source": []
  },
  {
   "cell_type": "code",
   "execution_count": null,
   "id": "reasonable-nylon",
   "metadata": {},
   "outputs": [],
   "source": []
  },
  {
   "cell_type": "code",
   "execution_count": null,
   "id": "white-active",
   "metadata": {},
   "outputs": [],
   "source": []
  },
  {
   "cell_type": "code",
   "execution_count": null,
   "id": "heavy-blame",
   "metadata": {},
   "outputs": [],
   "source": []
  },
  {
   "cell_type": "code",
   "execution_count": null,
   "id": "secret-nirvana",
   "metadata": {},
   "outputs": [],
   "source": []
  },
  {
   "cell_type": "code",
   "execution_count": null,
   "id": "smoking-cooling",
   "metadata": {},
   "outputs": [],
   "source": []
  },
  {
   "cell_type": "code",
   "execution_count": null,
   "id": "golden-dance",
   "metadata": {},
   "outputs": [],
   "source": []
  },
  {
   "cell_type": "code",
   "execution_count": null,
   "id": "chemical-large",
   "metadata": {},
   "outputs": [],
   "source": []
  },
  {
   "cell_type": "code",
   "execution_count": null,
   "id": "biological-spending",
   "metadata": {},
   "outputs": [],
   "source": []
  },
  {
   "cell_type": "code",
   "execution_count": null,
   "id": "modular-cabin",
   "metadata": {},
   "outputs": [],
   "source": []
  },
  {
   "cell_type": "code",
   "execution_count": null,
   "id": "recovered-receiver",
   "metadata": {},
   "outputs": [],
   "source": []
  },
  {
   "cell_type": "code",
   "execution_count": null,
   "id": "private-ozone",
   "metadata": {},
   "outputs": [],
   "source": []
  },
  {
   "cell_type": "code",
   "execution_count": null,
   "id": "rapid-sandwich",
   "metadata": {},
   "outputs": [],
   "source": []
  },
  {
   "cell_type": "code",
   "execution_count": null,
   "id": "weighted-interface",
   "metadata": {},
   "outputs": [],
   "source": []
  },
  {
   "cell_type": "code",
   "execution_count": null,
   "id": "polar-damage",
   "metadata": {},
   "outputs": [],
   "source": []
  },
  {
   "cell_type": "code",
   "execution_count": null,
   "id": "closed-logistics",
   "metadata": {},
   "outputs": [],
   "source": []
  },
  {
   "cell_type": "code",
   "execution_count": null,
   "id": "billion-advantage",
   "metadata": {},
   "outputs": [],
   "source": []
  },
  {
   "cell_type": "code",
   "execution_count": null,
   "id": "suspected-uzbekistan",
   "metadata": {},
   "outputs": [],
   "source": []
  },
  {
   "cell_type": "code",
   "execution_count": null,
   "id": "interior-boutique",
   "metadata": {},
   "outputs": [],
   "source": []
  },
  {
   "cell_type": "code",
   "execution_count": null,
   "id": "appreciated-neutral",
   "metadata": {},
   "outputs": [],
   "source": []
  },
  {
   "cell_type": "code",
   "execution_count": null,
   "id": "daily-rabbit",
   "metadata": {},
   "outputs": [],
   "source": []
  },
  {
   "cell_type": "code",
   "execution_count": null,
   "id": "first-accounting",
   "metadata": {},
   "outputs": [],
   "source": []
  },
  {
   "cell_type": "code",
   "execution_count": null,
   "id": "english-advisory",
   "metadata": {},
   "outputs": [],
   "source": []
  },
  {
   "cell_type": "code",
   "execution_count": null,
   "id": "cooked-medicare",
   "metadata": {},
   "outputs": [],
   "source": []
  },
  {
   "cell_type": "code",
   "execution_count": null,
   "id": "extensive-bones",
   "metadata": {},
   "outputs": [],
   "source": []
  },
  {
   "cell_type": "code",
   "execution_count": null,
   "id": "suspected-thunder",
   "metadata": {},
   "outputs": [],
   "source": []
  },
  {
   "cell_type": "code",
   "execution_count": null,
   "id": "expanded-medline",
   "metadata": {},
   "outputs": [],
   "source": []
  },
  {
   "cell_type": "code",
   "execution_count": null,
   "id": "thrown-miller",
   "metadata": {},
   "outputs": [],
   "source": []
  },
  {
   "cell_type": "code",
   "execution_count": null,
   "id": "funded-sender",
   "metadata": {},
   "outputs": [],
   "source": []
  },
  {
   "cell_type": "code",
   "execution_count": null,
   "id": "welcome-rebel",
   "metadata": {},
   "outputs": [],
   "source": []
  },
  {
   "cell_type": "code",
   "execution_count": null,
   "id": "natural-michigan",
   "metadata": {},
   "outputs": [],
   "source": []
  },
  {
   "cell_type": "code",
   "execution_count": null,
   "id": "statistical-andrews",
   "metadata": {},
   "outputs": [],
   "source": []
  },
  {
   "cell_type": "code",
   "execution_count": null,
   "id": "emerging-accuracy",
   "metadata": {},
   "outputs": [],
   "source": []
  },
  {
   "cell_type": "code",
   "execution_count": null,
   "id": "signal-judges",
   "metadata": {},
   "outputs": [],
   "source": []
  },
  {
   "cell_type": "code",
   "execution_count": null,
   "id": "cellular-housing",
   "metadata": {},
   "outputs": [],
   "source": []
  },
  {
   "cell_type": "code",
   "execution_count": null,
   "id": "forced-vessel",
   "metadata": {},
   "outputs": [],
   "source": []
  },
  {
   "cell_type": "code",
   "execution_count": null,
   "id": "moved-terrace",
   "metadata": {},
   "outputs": [],
   "source": []
  },
  {
   "cell_type": "code",
   "execution_count": null,
   "id": "backed-undergraduate",
   "metadata": {},
   "outputs": [],
   "source": []
  },
  {
   "cell_type": "code",
   "execution_count": null,
   "id": "undefined-mercy",
   "metadata": {},
   "outputs": [],
   "source": []
  },
  {
   "cell_type": "code",
   "execution_count": null,
   "id": "shaped-weekly",
   "metadata": {},
   "outputs": [],
   "source": []
  },
  {
   "cell_type": "code",
   "execution_count": null,
   "id": "swiss-clarity",
   "metadata": {},
   "outputs": [],
   "source": []
  },
  {
   "cell_type": "code",
   "execution_count": null,
   "id": "special-passing",
   "metadata": {},
   "outputs": [],
   "source": []
  },
  {
   "cell_type": "code",
   "execution_count": null,
   "id": "freelance-dairy",
   "metadata": {},
   "outputs": [],
   "source": []
  },
  {
   "cell_type": "code",
   "execution_count": null,
   "id": "separate-highland",
   "metadata": {},
   "outputs": [],
   "source": []
  },
  {
   "cell_type": "code",
   "execution_count": null,
   "id": "informal-printer",
   "metadata": {},
   "outputs": [],
   "source": []
  },
  {
   "cell_type": "code",
   "execution_count": null,
   "id": "cellular-height",
   "metadata": {},
   "outputs": [],
   "source": []
  },
  {
   "cell_type": "code",
   "execution_count": null,
   "id": "floral-verification",
   "metadata": {},
   "outputs": [],
   "source": []
  },
  {
   "cell_type": "code",
   "execution_count": null,
   "id": "impressed-session",
   "metadata": {},
   "outputs": [],
   "source": []
  },
  {
   "cell_type": "code",
   "execution_count": null,
   "id": "excess-begin",
   "metadata": {},
   "outputs": [],
   "source": []
  },
  {
   "cell_type": "code",
   "execution_count": null,
   "id": "personal-camera",
   "metadata": {},
   "outputs": [],
   "source": []
  },
  {
   "cell_type": "code",
   "execution_count": null,
   "id": "laden-discrimination",
   "metadata": {},
   "outputs": [],
   "source": []
  },
  {
   "cell_type": "code",
   "execution_count": null,
   "id": "acute-indicator",
   "metadata": {},
   "outputs": [],
   "source": []
  },
  {
   "cell_type": "code",
   "execution_count": null,
   "id": "abroad-norway",
   "metadata": {},
   "outputs": [],
   "source": []
  },
  {
   "cell_type": "code",
   "execution_count": null,
   "id": "civil-auckland",
   "metadata": {},
   "outputs": [],
   "source": []
  },
  {
   "cell_type": "code",
   "execution_count": null,
   "id": "voluntary-tiffany",
   "metadata": {},
   "outputs": [],
   "source": []
  },
  {
   "cell_type": "code",
   "execution_count": null,
   "id": "judicial-demand",
   "metadata": {},
   "outputs": [],
   "source": []
  },
  {
   "cell_type": "code",
   "execution_count": null,
   "id": "afraid-subsection",
   "metadata": {},
   "outputs": [],
   "source": []
  },
  {
   "cell_type": "code",
   "execution_count": null,
   "id": "thorough-louisiana",
   "metadata": {},
   "outputs": [],
   "source": []
  },
  {
   "cell_type": "code",
   "execution_count": null,
   "id": "heated-snowboard",
   "metadata": {},
   "outputs": [],
   "source": []
  },
  {
   "cell_type": "code",
   "execution_count": null,
   "id": "united-atlanta",
   "metadata": {},
   "outputs": [],
   "source": []
  },
  {
   "cell_type": "code",
   "execution_count": null,
   "id": "dense-bradley",
   "metadata": {},
   "outputs": [],
   "source": []
  },
  {
   "cell_type": "code",
   "execution_count": null,
   "id": "agricultural-fight",
   "metadata": {},
   "outputs": [],
   "source": []
  },
  {
   "cell_type": "code",
   "execution_count": null,
   "id": "fixed-cookbook",
   "metadata": {},
   "outputs": [],
   "source": []
  },
  {
   "cell_type": "code",
   "execution_count": null,
   "id": "rough-advice",
   "metadata": {},
   "outputs": [],
   "source": []
  },
  {
   "cell_type": "code",
   "execution_count": null,
   "id": "headed-jamaica",
   "metadata": {},
   "outputs": [],
   "source": []
  },
  {
   "cell_type": "code",
   "execution_count": null,
   "id": "homeless-owner",
   "metadata": {},
   "outputs": [],
   "source": []
  },
  {
   "cell_type": "code",
   "execution_count": null,
   "id": "coral-storm",
   "metadata": {},
   "outputs": [],
   "source": []
  },
  {
   "cell_type": "code",
   "execution_count": null,
   "id": "rocky-ultimate",
   "metadata": {},
   "outputs": [],
   "source": []
  },
  {
   "cell_type": "code",
   "execution_count": null,
   "id": "acknowledged-sister",
   "metadata": {},
   "outputs": [],
   "source": []
  },
  {
   "cell_type": "code",
   "execution_count": null,
   "id": "noticed-campaign",
   "metadata": {},
   "outputs": [],
   "source": []
  },
  {
   "cell_type": "code",
   "execution_count": null,
   "id": "quick-procedure",
   "metadata": {},
   "outputs": [],
   "source": []
  },
  {
   "cell_type": "code",
   "execution_count": null,
   "id": "south-danger",
   "metadata": {},
   "outputs": [],
   "source": []
  },
  {
   "cell_type": "code",
   "execution_count": null,
   "id": "possible-tours",
   "metadata": {},
   "outputs": [],
   "source": []
  },
  {
   "cell_type": "code",
   "execution_count": null,
   "id": "suspected-pittsburgh",
   "metadata": {},
   "outputs": [],
   "source": []
  },
  {
   "cell_type": "code",
   "execution_count": null,
   "id": "shared-violin",
   "metadata": {},
   "outputs": [],
   "source": []
  },
  {
   "cell_type": "code",
   "execution_count": null,
   "id": "matched-rapid",
   "metadata": {},
   "outputs": [],
   "source": []
  },
  {
   "cell_type": "code",
   "execution_count": null,
   "id": "wrong-jerusalem",
   "metadata": {},
   "outputs": [],
   "source": []
  },
  {
   "cell_type": "code",
   "execution_count": null,
   "id": "ongoing-frame",
   "metadata": {},
   "outputs": [],
   "source": []
  },
  {
   "cell_type": "code",
   "execution_count": null,
   "id": "loving-dealing",
   "metadata": {},
   "outputs": [],
   "source": []
  },
  {
   "cell_type": "code",
   "execution_count": null,
   "id": "apparent-occupation",
   "metadata": {},
   "outputs": [],
   "source": []
  },
  {
   "cell_type": "code",
   "execution_count": null,
   "id": "willing-table",
   "metadata": {},
   "outputs": [],
   "source": []
  },
  {
   "cell_type": "code",
   "execution_count": null,
   "id": "double-intermediate",
   "metadata": {},
   "outputs": [],
   "source": []
  },
  {
   "cell_type": "code",
   "execution_count": null,
   "id": "lined-velvet",
   "metadata": {},
   "outputs": [],
   "source": []
  },
  {
   "cell_type": "code",
   "execution_count": null,
   "id": "modular-search",
   "metadata": {},
   "outputs": [],
   "source": []
  },
  {
   "cell_type": "code",
   "execution_count": null,
   "id": "greenhouse-period",
   "metadata": {},
   "outputs": [],
   "source": []
  },
  {
   "cell_type": "code",
   "execution_count": null,
   "id": "interracial-gregory",
   "metadata": {},
   "outputs": [],
   "source": []
  },
  {
   "cell_type": "code",
   "execution_count": null,
   "id": "demographic-jonathan",
   "metadata": {},
   "outputs": [],
   "source": []
  },
  {
   "cell_type": "code",
   "execution_count": null,
   "id": "analyzed-manufacturer",
   "metadata": {},
   "outputs": [],
   "source": []
  },
  {
   "cell_type": "code",
   "execution_count": null,
   "id": "encouraging-offer",
   "metadata": {},
   "outputs": [],
   "source": [
    "\n",
    "\n",
    "\n"
   ]
  }
 ],
 "metadata": {
  "kernelspec": {
   "display_name": "Python 3",
   "language": "python",
   "name": "python3"
  },
  "language_info": {
   "codemirror_mode": {
    "name": "ipython",
    "version": 3
   },
   "file_extension": ".py",
   "mimetype": "text/x-python",
   "name": "python",
   "nbconvert_exporter": "python",
   "pygments_lexer": "ipython3",
   "version": "3.8.8"
  }
 },
 "nbformat": 4,
 "nbformat_minor": 5
}
